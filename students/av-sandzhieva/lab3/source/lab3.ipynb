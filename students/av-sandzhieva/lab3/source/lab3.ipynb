{
 "cells": [
  {
   "cell_type": "code",
   "execution_count": 96,
   "metadata": {
    "id": "A11tJXCjC2y9"
   },
   "outputs": [],
   "source": [
    "import pandas as pd\n",
    "import numpy as np\n",
    "from sklearn.model_selection import train_test_split\n",
    "import matplotlib.pyplot as plt\n",
    "from sklearn.preprocessing import StandardScaler\n",
    "from sklearn.metrics import accuracy_score\n",
    "from scipy.stats import norm\n",
    "import time\n",
    "from scipy.spatial.distance import cdist\n",
    "from sklearn.decomposition import PCA\n",
    "from sklearn.metrics import (\n",
    "    precision_score,\n",
    "    recall_score,\n",
    "    f1_score,\n",
    "    classification_report,\n",
    "    confusion_matrix,\n",
    ")\n",
    "from sklearn.tree import DecisionTreeRegressor\n",
    "from sklearn.metrics import mean_squared_error\n",
    "import kagglehub\n",
    "from collections import Counter\n",
    "from sklearn.model_selection import train_test_split\n",
    "from sklearn.metrics import mean_squared_error, accuracy_score\n",
    "from sklearn.tree import DecisionTreeClassifier, DecisionTreeRegressor\n",
    "from time import time\n",
    "import os"
   ]
  },
  {
   "cell_type": "code",
   "execution_count": 51,
   "metadata": {
    "colab": {
     "base_uri": "https://localhost:8080/"
    },
    "id": "CBYtBOjgCqR3",
    "outputId": "abaeea37-b653-48d7-dd14-24c6d7530529"
   },
   "outputs": [],
   "source": [
    "working_dir = './titanic/'"
   ]
  },
  {
   "cell_type": "code",
   "execution_count": 52,
   "metadata": {
    "id": "sSA5icolCy_g"
   },
   "outputs": [],
   "source": [
    "trainpath = working_dir + 'train.csv'\n",
    "df = pd.read_csv(os.path.join(trainpath))"
   ]
  },
  {
   "cell_type": "code",
   "execution_count": 53,
   "metadata": {
    "colab": {
     "base_uri": "https://localhost:8080/"
    },
    "id": "_9D96DKJDQeG",
    "outputId": "05c8f4f9-d713-4ca3-e3f8-bef2a3f2cca7"
   },
   "outputs": [
    {
     "name": "stdout",
     "output_type": "stream",
     "text": [
      "<class 'pandas.core.frame.DataFrame'>\n",
      "RangeIndex: 891 entries, 0 to 890\n",
      "Data columns (total 12 columns):\n",
      " #   Column       Non-Null Count  Dtype  \n",
      "---  ------       --------------  -----  \n",
      " 0   PassengerId  891 non-null    int64  \n",
      " 1   Survived     891 non-null    int64  \n",
      " 2   Pclass       891 non-null    int64  \n",
      " 3   Name         891 non-null    object \n",
      " 4   Sex          891 non-null    object \n",
      " 5   Age          714 non-null    float64\n",
      " 6   SibSp        891 non-null    int64  \n",
      " 7   Parch        891 non-null    int64  \n",
      " 8   Ticket       891 non-null    object \n",
      " 9   Fare         891 non-null    float64\n",
      " 10  Cabin        204 non-null    object \n",
      " 11  Embarked     889 non-null    object \n",
      "dtypes: float64(2), int64(5), object(5)\n",
      "memory usage: 83.7+ KB\n"
     ]
    }
   ],
   "source": [
    "df.info()"
   ]
  },
  {
   "cell_type": "code",
   "execution_count": 54,
   "metadata": {
    "colab": {
     "base_uri": "https://localhost:8080/",
     "height": 366
    },
    "id": "5QCI3v1pDOCz",
    "outputId": "27eefd5d-00fe-4743-bf30-bf1ec16c8e5c"
   },
   "outputs": [
    {
     "data": {
      "text/plain": [
       "PassengerId      0\n",
       "Survived         0\n",
       "Pclass           0\n",
       "Name             0\n",
       "Sex              0\n",
       "Age            177\n",
       "SibSp            0\n",
       "Parch            0\n",
       "Ticket           0\n",
       "Fare             0\n",
       "Cabin          687\n",
       "Embarked         2\n",
       "dtype: int64"
      ]
     },
     "execution_count": 54,
     "metadata": {},
     "output_type": "execute_result"
    }
   ],
   "source": [
    "df.isnull().sum()"
   ]
  },
  {
   "cell_type": "code",
   "execution_count": 55,
   "metadata": {
    "colab": {
     "base_uri": "https://localhost:8080/",
     "height": 206
    },
    "id": "JxjAOSxmDlEd",
    "outputId": "b6c6e820-3100-4b8a-8ffe-840a9134c70e"
   },
   "outputs": [
    {
     "data": {
      "text/html": [
       "<div>\n",
       "<style scoped>\n",
       "    .dataframe tbody tr th:only-of-type {\n",
       "        vertical-align: middle;\n",
       "    }\n",
       "\n",
       "    .dataframe tbody tr th {\n",
       "        vertical-align: top;\n",
       "    }\n",
       "\n",
       "    .dataframe thead th {\n",
       "        text-align: right;\n",
       "    }\n",
       "</style>\n",
       "<table border=\"1\" class=\"dataframe\">\n",
       "  <thead>\n",
       "    <tr style=\"text-align: right;\">\n",
       "      <th></th>\n",
       "      <th>PassengerId</th>\n",
       "      <th>Survived</th>\n",
       "      <th>Pclass</th>\n",
       "      <th>Name</th>\n",
       "      <th>Sex</th>\n",
       "      <th>Age</th>\n",
       "      <th>SibSp</th>\n",
       "      <th>Parch</th>\n",
       "      <th>Ticket</th>\n",
       "      <th>Fare</th>\n",
       "      <th>Cabin</th>\n",
       "      <th>Embarked</th>\n",
       "    </tr>\n",
       "  </thead>\n",
       "  <tbody>\n",
       "    <tr>\n",
       "      <th>0</th>\n",
       "      <td>1</td>\n",
       "      <td>0</td>\n",
       "      <td>3</td>\n",
       "      <td>Braund, Mr. Owen Harris</td>\n",
       "      <td>male</td>\n",
       "      <td>22.0</td>\n",
       "      <td>1</td>\n",
       "      <td>0</td>\n",
       "      <td>A/5 21171</td>\n",
       "      <td>7.2500</td>\n",
       "      <td>NaN</td>\n",
       "      <td>S</td>\n",
       "    </tr>\n",
       "    <tr>\n",
       "      <th>1</th>\n",
       "      <td>2</td>\n",
       "      <td>1</td>\n",
       "      <td>1</td>\n",
       "      <td>Cumings, Mrs. John Bradley (Florence Briggs Th...</td>\n",
       "      <td>female</td>\n",
       "      <td>38.0</td>\n",
       "      <td>1</td>\n",
       "      <td>0</td>\n",
       "      <td>PC 17599</td>\n",
       "      <td>71.2833</td>\n",
       "      <td>C85</td>\n",
       "      <td>C</td>\n",
       "    </tr>\n",
       "    <tr>\n",
       "      <th>2</th>\n",
       "      <td>3</td>\n",
       "      <td>1</td>\n",
       "      <td>3</td>\n",
       "      <td>Heikkinen, Miss. Laina</td>\n",
       "      <td>female</td>\n",
       "      <td>26.0</td>\n",
       "      <td>0</td>\n",
       "      <td>0</td>\n",
       "      <td>STON/O2. 3101282</td>\n",
       "      <td>7.9250</td>\n",
       "      <td>NaN</td>\n",
       "      <td>S</td>\n",
       "    </tr>\n",
       "    <tr>\n",
       "      <th>3</th>\n",
       "      <td>4</td>\n",
       "      <td>1</td>\n",
       "      <td>1</td>\n",
       "      <td>Futrelle, Mrs. Jacques Heath (Lily May Peel)</td>\n",
       "      <td>female</td>\n",
       "      <td>35.0</td>\n",
       "      <td>1</td>\n",
       "      <td>0</td>\n",
       "      <td>113803</td>\n",
       "      <td>53.1000</td>\n",
       "      <td>C123</td>\n",
       "      <td>S</td>\n",
       "    </tr>\n",
       "    <tr>\n",
       "      <th>4</th>\n",
       "      <td>5</td>\n",
       "      <td>0</td>\n",
       "      <td>3</td>\n",
       "      <td>Allen, Mr. William Henry</td>\n",
       "      <td>male</td>\n",
       "      <td>35.0</td>\n",
       "      <td>0</td>\n",
       "      <td>0</td>\n",
       "      <td>373450</td>\n",
       "      <td>8.0500</td>\n",
       "      <td>NaN</td>\n",
       "      <td>S</td>\n",
       "    </tr>\n",
       "  </tbody>\n",
       "</table>\n",
       "</div>"
      ],
      "text/plain": [
       "   PassengerId  Survived  Pclass  \\\n",
       "0            1         0       3   \n",
       "1            2         1       1   \n",
       "2            3         1       3   \n",
       "3            4         1       1   \n",
       "4            5         0       3   \n",
       "\n",
       "                                                Name     Sex   Age  SibSp  \\\n",
       "0                            Braund, Mr. Owen Harris    male  22.0      1   \n",
       "1  Cumings, Mrs. John Bradley (Florence Briggs Th...  female  38.0      1   \n",
       "2                             Heikkinen, Miss. Laina  female  26.0      0   \n",
       "3       Futrelle, Mrs. Jacques Heath (Lily May Peel)  female  35.0      1   \n",
       "4                           Allen, Mr. William Henry    male  35.0      0   \n",
       "\n",
       "   Parch            Ticket     Fare Cabin Embarked  \n",
       "0      0         A/5 21171   7.2500   NaN        S  \n",
       "1      0          PC 17599  71.2833   C85        C  \n",
       "2      0  STON/O2. 3101282   7.9250   NaN        S  \n",
       "3      0            113803  53.1000  C123        S  \n",
       "4      0            373450   8.0500   NaN        S  "
      ]
     },
     "execution_count": 55,
     "metadata": {},
     "output_type": "execute_result"
    }
   ],
   "source": [
    "df.head()"
   ]
  },
  {
   "cell_type": "code",
   "execution_count": 56,
   "metadata": {
    "colab": {
     "base_uri": "https://localhost:8080/",
     "height": 452
    },
    "id": "Qsr4UyKkErIt",
    "outputId": "9dab72a3-27c0-4fd1-a915-b079652c756b"
   },
   "outputs": [
    {
     "data": {
      "image/png": "[encoded data removed]",
      "text/plain": [
       "<Figure size 640x480 with 1 Axes>"
      ]
     },
     "metadata": {},
     "output_type": "display_data"
    }
   ],
   "source": [
    "df['Survived'].plot(kind='hist', bins=20, title='Survived')\n",
    "plt.gca().spines[['top', 'right',]].set_visible(False)"
   ]
  },
  {
   "cell_type": "code",
   "execution_count": 57,
   "metadata": {},
   "outputs": [],
   "source": [
    "df = df.drop(['PassengerId', 'Name', 'Ticket', 'Cabin'], axis=1)\n",
    "\n",
    "# заполнение пропусков\n",
    "df['Age'] = df['Age'].fillna(df['Age'].median())\n",
    "df['Embarked'] = df['Embarked'].fillna(df['Embarked'].mode()[0])\n",
    "\n",
    "# кодирование категориальных переменных\n",
    "df['Sex'] = df['Sex'].map({'male': 0, 'female': 1})\n",
    "df['Embarked'] = df['Embarked'].map({'C': 0, 'Q': 1, 'S': 2})"
   ]
  },
  {
   "cell_type": "code",
   "execution_count": 58,
   "metadata": {},
   "outputs": [],
   "source": [
    "X = df.drop('Survived', axis=1).values\n",
    "y = df['Survived'].values\n",
    "feature_names = df.drop('Survived', axis=1).columns.tolist()"
   ]
  },
  {
   "cell_type": "code",
   "execution_count": 59,
   "metadata": {},
   "outputs": [],
   "source": [
    "from sklearn.preprocessing import StandardScaler\n",
    "\n",
    "scaler = StandardScaler()\n",
    "X = scaler.fit_transform(X)"
   ]
  },
  {
   "cell_type": "code",
   "execution_count": 60,
   "metadata": {},
   "outputs": [],
   "source": [
    "X_train, X_test, y_train, y_test = train_test_split(X, y, test_size=0.2, random_state=42)"
   ]
  },
  {
   "cell_type": "code",
   "execution_count": 61,
   "metadata": {},
   "outputs": [],
   "source": [
    "from imblearn.over_sampling import SMOTE\n",
    "\n",
    "smote = SMOTE(random_state=42)\n",
    "X_train, y_train = smote.fit_resample(X_train, y_train)"
   ]
  },
  {
   "cell_type": "code",
   "execution_count": 62,
   "metadata": {
    "id": "zVep1ls_E4fp"
   },
   "outputs": [],
   "source": [
    "from sklearn.manifold import TSNE\n",
    "from sklearn.decomposition import PCA\n",
    "\n",
    "tsne = TSNE(n_components=2, learning_rate='auto', init='random', perplexity=10).fit_transform(X=X)\n",
    "pca = PCA(n_components=2).fit_transform(X)"
   ]
  },
  {
   "cell_type": "code",
   "execution_count": 63,
   "metadata": {
    "colab": {
     "base_uri": "https://localhost:8080/",
     "height": 331
    },
    "id": "N7mJbo_aE45v",
    "outputId": "bc5b4f36-14bf-4e9b-e9bd-3a595cc4813d"
   },
   "outputs": [
    {
     "data": {
      "text/plain": [
       "Text(0.5, 1.0, 'PCA')"
      ]
     },
     "execution_count": 63,
     "metadata": {},
     "output_type": "execute_result"
    },
    {
     "data": {
      "image/png": "[encoded data removed]",
      "text/plain": [
       "<Figure size 800x300 with 2 Axes>"
      ]
     },
     "metadata": {},
     "output_type": "display_data"
    }
   ],
   "source": [
    "fig, axes = plt.subplots(1, 2, figsize=(8, 3))\n",
    "\n",
    "axes[0].scatter(tsne[:, 0], tsne[:, 1], c=y, edgecolor='k')\n",
    "axes[0].set_title(\"TSNE\")\n",
    "\n",
    "axes[1].scatter(pca[:, 0], pca[:, 1], c=y, edgecolor='k')\n",
    "axes[1].set_title(\"PCA\")"
   ]
  },
  {
   "cell_type": "code",
   "execution_count": 64,
   "metadata": {},
   "outputs": [],
   "source": [
    "def id3(X, y, feature_names, criterion=\"entropy\", max_depth=None, current_depth=0):\n",
    "    # Базовые случаи\n",
    "    if len(np.unique(y)) == 1 or len(feature_names) == 0 or (max_depth is not None and current_depth >= max_depth):\n",
    "        return Counter(y).most_common(1)[0][0]\n",
    "\n",
    "    gains = CRITERIA[criterion](X, y)\n",
    "    best_feature_idx = np.argmax(gains)\n",
    "    best_feature = feature_names[best_feature_idx]\n",
    "\n",
    "    tree = {best_feature: {}}\n",
    "\n",
    "    for value in np.unique(X[:, best_feature_idx]):\n",
    "        subset_X = X[X[:, best_feature_idx] == value]\n",
    "        subset_y = y[X[:, best_feature_idx] == value]\n",
    "        \n",
    "        subtree = id3(\n",
    "            np.delete(subset_X, best_feature_idx, axis=1),\n",
    "            subset_y,\n",
    "            feature_names[:best_feature_idx] + feature_names[best_feature_idx + 1:],\n",
    "            criterion=criterion,\n",
    "            max_depth=max_depth,\n",
    "            current_depth=current_depth + 1\n",
    "        )\n",
    "        tree[best_feature][value] = subtree\n",
    "\n",
    "    return tree\n",
    "\n",
    "def prune_tree(tree, min_samples=5):\n",
    "    if not isinstance(tree, dict):\n",
    "        return tree\n",
    "\n",
    "    pruned_tree = {}\n",
    "    for key in tree:\n",
    "        subtree = tree[key]\n",
    "        if isinstance(subtree, dict):\n",
    "            subtree = {subkey: prune_tree(subval, min_samples) for subkey, subval in subtree.items()}\n",
    "\n",
    "            # Если все значения поддерева ведут к одному результату\n",
    "            leaf_values = list(subtree.values())\n",
    "            if all(isinstance(leaf, dict) == False and leaf == leaf_values[0] for leaf in leaf_values):\n",
    "                return leaf_values[0]\n",
    "        pruned_tree[key] = subtree\n",
    "\n",
    "    return pruned_tree\n",
    "\n",
    "def entropy(y):\n",
    "    counts = Counter(y)\n",
    "    probabilities = [count / len(y) for count in counts.values()]\n",
    "    return -sum(p * np.log2(p) for p in probabilities if p > 0)\n",
    "\n",
    "def multiclass_entropy_criterion(X_column, y):\n",
    "    counts = Counter(y)\n",
    "    total_count = len(y)\n",
    "    weighted_entropy = 0\n",
    "\n",
    "    for c in counts:\n",
    "        Pc = counts[c] / total_count\n",
    "        p = len(X_column[X_column == c]) / total_count\n",
    "        if p > 0:\n",
    "            weighted_entropy += Pc * (-p * np.log2(p))\n",
    "\n",
    "    return weighted_entropy\n",
    "\n",
    "def donskoy_criterion(X, y):\n",
    "    n = len(y)\n",
    "    count = 0\n",
    "    for i in range(n):\n",
    "        for j in range(i + 1, n):\n",
    "            if (y[i] != y[j]) and (X[i] != X[j]):\n",
    "                count += 1\n",
    "    return count\n",
    "\n",
    "CRITERIA = {\n",
    "    \"entropy\": lambda X, y: [multiclass_entropy_criterion(X[:, i], y) for i in range(X.shape[1])],\n",
    "    \"donskoy\": lambda X, y: [donskoy_criterion(X[:, i], y) for i in range(X.shape[1])]\n",
    "}\n",
    "\n"
   ]
  },
  {
   "cell_type": "code",
   "execution_count": 65,
   "metadata": {},
   "outputs": [],
   "source": [
    "def predict(tree, X_sample, feature_names):\n",
    "    if not isinstance(tree, dict):\n",
    "        return tree\n",
    "    root_node = next(iter(tree))\n",
    "    feature_idx = feature_names.index(root_node)\n",
    "    subtree = tree[root_node].get(X_sample[feature_idx], Counter(y_train).most_common(1)[0][0])\n",
    "    return predict(subtree, X_sample, feature_names)\n"
   ]
  },
  {
   "cell_type": "code",
   "execution_count": 66,
   "metadata": {},
   "outputs": [
    {
     "name": "stdout",
     "output_type": "stream",
     "text": [
      "Точность (энтропия): 0.7877094972067039\n",
      "Точность (Донской): 0.7039106145251397\n",
      "Время работы (энтропия): 0.05005931854248047\n",
      "Время работы (Донской): 1.8540427684783936\n",
      "Точность (библиотечное дерево): 0.7821229050279329\n",
      "Среднеквадратичная ошибка (библиотечное дерево): 0.21787709497206703\n",
      "Время работы (библиотечное дерево): 0.0049800872802734375\n"
     ]
    }
   ],
   "source": [
    "if __name__ == \"__main__\":\n",
    "    # Обучение дерева с критерием энтропии\n",
    "    start_time = time()\n",
    "    tree_entropy = id3(X_train, y_train, feature_names, criterion=\"entropy\")\n",
    "    entropy_time = time() - start_time\n",
    "    # print(\"Построенное дерево (энтропия):\", tree_entropy)\n",
    "\n",
    "    # Обучение дерева с критерием Донского\n",
    "    start_time = time()\n",
    "    tree_donskoy = id3(X_train, y_train, feature_names, criterion=\"donskoy\")\n",
    "    donskoy_time = time() - start_time\n",
    "    # print(\"Построенное дерево (Донской):\", tree_donskoy)\n",
    "\n",
    "    # редукция дерева\n",
    "    pruned_tree_entropy = prune_tree(tree_entropy)\n",
    "    pruned_tree_donskoy = prune_tree(tree_donskoy)\n",
    "    \n",
    "    y_pred_entropy = [predict(pruned_tree_entropy, x, feature_names) for x in X_test]\n",
    "    entropy_accuracy = accuracy_score(y_test, y_pred_entropy)\n",
    "    print(\"Точность (энтропия):\", entropy_accuracy)\n",
    "\n",
    "    y_pred_donskoy = [predict(pruned_tree_donskoy, x, feature_names) for x in X_test]\n",
    "    donskoy_accuracy = accuracy_score(y_test, y_pred_donskoy)\n",
    "    print(\"Точность (Донской):\", donskoy_accuracy)\n",
    "\n",
    "    # Сравнение времени работы\n",
    "    print(\"Время работы (энтропия):\", entropy_time)\n",
    "    print(\"Время работы (Донской):\", donskoy_time)\n",
    "\n",
    "    # Сравнение с библиотечной реализацией дерева\n",
    "    start_time = time()\n",
    "    clf = DecisionTreeClassifier(random_state=42)\n",
    "    clf.fit(X_train, y_train)\n",
    "    lib_tree_time = time() - start_time\n",
    "\n",
    "    lib_y_pred = clf.predict(X_test)\n",
    "    lib_accuracy = accuracy_score(y_test, lib_y_pred)\n",
    "    lib_mse = mean_squared_error(y_test, lib_y_pred)\n",
    "\n",
    "    print(\"Точность (библиотечное дерево):\", lib_accuracy)\n",
    "    print(\"Среднеквадратичная ошибка (библиотечное дерево):\", lib_mse)\n",
    "    print(\"Время работы (библиотечное дерево):\", lib_tree_time)\n"
   ]
  },
  {
   "cell_type": "code",
   "execution_count": 67,
   "metadata": {
    "colab": {
     "base_uri": "https://localhost:8080/"
    },
    "id": "RmMnG_Wfpdgm",
    "outputId": "ae0b66cd-eed4-4a69-c8ea-0065b2bb9200"
   },
   "outputs": [
    {
     "name": "stdout",
     "output_type": "stream",
     "text": [
      "Custom Classification Report entropy:\n",
      "              precision    recall  f1-score   support\n",
      "\n",
      "           0       0.76      0.94      0.84       105\n",
      "           1       0.88      0.57      0.69        74\n",
      "\n",
      "    accuracy                           0.79       179\n",
      "   macro avg       0.82      0.76      0.76       179\n",
      "weighted avg       0.81      0.79      0.78       179\n",
      "\n",
      "\n",
      "Custom Classification Report donskoy:\n",
      "              precision    recall  f1-score   support\n",
      "\n",
      "           0       0.69      0.91      0.78       105\n",
      "           1       0.77      0.41      0.53        74\n",
      "\n",
      "    accuracy                           0.70       179\n",
      "   macro avg       0.73      0.66      0.66       179\n",
      "weighted avg       0.72      0.70      0.68       179\n",
      "\n",
      "\n",
      "Библиотечная Classification Report:\n",
      "              precision    recall  f1-score   support\n",
      "\n",
      "           0       0.84      0.78      0.81       105\n",
      "           1       0.72      0.78      0.75        74\n",
      "\n",
      "    accuracy                           0.78       179\n",
      "   macro avg       0.78      0.78      0.78       179\n",
      "weighted avg       0.79      0.78      0.78       179\n",
      "\n"
     ]
    }
   ],
   "source": [
    "# --- 6. Дополнительные метрики ---\n",
    "print(\"Custom Classification Report entropy:\")\n",
    "print(classification_report(y_test, y_pred_entropy))\n",
    "\n",
    "print(\"\\nCustom Classification Report donskoy:\")\n",
    "print(classification_report(y_test, y_pred_donskoy))\n",
    "\n",
    "print(\"\\nБиблиотечная Classification Report:\")\n",
    "print(classification_report(y_test, lib_y_pred))"
   ]
  },
  {
   "cell_type": "code",
   "execution_count": 68,
   "metadata": {
    "colab": {
     "base_uri": "https://localhost:8080/"
    },
    "id": "UHMXuDNqpaxz",
    "outputId": "c69f1583-3747-497b-a866-785e3d969ae1"
   },
   "outputs": [
    {
     "name": "stdout",
     "output_type": "stream",
     "text": [
      "Custom Confusion Matrix entropy:\n",
      "[[99  6]\n",
      " [32 42]]\n",
      "\n",
      "Custom Confusion Matrix donskoy:\n",
      "[[96  9]\n",
      " [44 30]]\n",
      "\n",
      "Библиотечная Confusion Matrix:\n",
      "[[82 23]\n",
      " [16 58]]\n"
     ]
    }
   ],
   "source": [
    "# --- 7. Матрица ошибок ---\n",
    "print(\"Custom Confusion Matrix entropy:\")\n",
    "print(confusion_matrix(y_test, y_pred_entropy))\n",
    "\n",
    "print(\"\\nCustom Confusion Matrix donskoy:\")\n",
    "print(confusion_matrix(y_test, y_pred_donskoy))\n",
    "\n",
    "print(\"\\nБиблиотечная Confusion Matrix:\")\n",
    "print(confusion_matrix(y_test, lib_y_pred))"
   ]
  },
  {
   "cell_type": "markdown",
   "metadata": {},
   "source": [
    "## Задача регрессии"
   ]
  },
  {
   "cell_type": "code",
   "execution_count": 127,
   "metadata": {},
   "outputs": [],
   "source": [
    "df = pd.read_csv('data.csv')"
   ]
  },
  {
   "cell_type": "code",
   "execution_count": 128,
   "metadata": {},
   "outputs": [
    {
     "name": "stdout",
     "output_type": "stream",
     "text": [
      "<class 'pandas.core.frame.DataFrame'>\n",
      "RangeIndex: 1388 entries, 0 to 1387\n",
      "Data columns (total 5 columns):\n",
      " #   Column               Non-Null Count  Dtype  \n",
      "---  ------               --------------  -----  \n",
      " 0   Socioeconomic Score  1388 non-null   float64\n",
      " 1   Study Hours          1388 non-null   float64\n",
      " 2   Sleep Hours          1388 non-null   float64\n",
      " 3   Attendance (%)       1388 non-null   float64\n",
      " 4   Grades               1388 non-null   float64\n",
      "dtypes: float64(5)\n",
      "memory usage: 54.3 KB\n"
     ]
    }
   ],
   "source": [
    "df.info()"
   ]
  },
  {
   "cell_type": "code",
   "execution_count": 137,
   "metadata": {},
   "outputs": [],
   "source": [
    "y = df['Grades'].values\n",
    "X = df.drop(['Grades'], axis = 1)\n",
    "feature_names = df.drop('Grades', axis=1).columns.tolist()"
   ]
  },
  {
   "cell_type": "code",
   "execution_count": 138,
   "metadata": {},
   "outputs": [],
   "source": [
    "from sklearn.preprocessing import StandardScaler\n",
    "\n",
    "scaler = StandardScaler()\n",
    "X = scaler.fit_transform(X)"
   ]
  },
  {
   "cell_type": "code",
   "execution_count": 139,
   "metadata": {},
   "outputs": [],
   "source": [
    "X_train_reg, X_test_reg, y_train_reg, y_test_reg = train_test_split(X, y, test_size=0.2, random_state=42)"
   ]
  },
  {
   "cell_type": "code",
   "execution_count": 144,
   "metadata": {},
   "outputs": [
    {
     "data": {
      "text/plain": [
       "3.257678276383865"
      ]
     },
     "execution_count": 144,
     "metadata": {},
     "output_type": "execute_result"
    }
   ],
   "source": [
    "class RegressionTree:\n",
    "    def __init__(self, min_samples_split=2, max_depth=None):\n",
    "        self.min_samples_split = min_samples_split\n",
    "        self.max_depth = max_depth\n",
    "        self.tree = None\n",
    "\n",
    "    def mse(self, y):\n",
    "        if len(y) == 0:\n",
    "            return 0\n",
    "        return np.mean((y - np.mean(y)) ** 2)\n",
    "\n",
    "    def fit(self, X, y):\n",
    "        self.tree = self._build_tree(X, y, depth=0)\n",
    "\n",
    "    def _build_tree(self, X, y, depth):\n",
    "        if len(y) < self.min_samples_split or (self.max_depth is not None and depth >= self.max_depth):\n",
    "            return np.mean(y)\n",
    "\n",
    "        best_feature, best_split = None, None\n",
    "        best_mse = float(\"inf\")\n",
    "        current_mse = self.mse(y)\n",
    "\n",
    "        for feature in X.columns:\n",
    "            thresholds = np.unique(X[feature])\n",
    "            for threshold in thresholds:\n",
    "                left_mask = X[feature] <= threshold\n",
    "                right_mask = X[feature] > threshold\n",
    "\n",
    "                if sum(left_mask) == 0 or sum(right_mask) == 0:\n",
    "                    continue\n",
    "\n",
    "                y_left, y_right = y[left_mask], y[right_mask]\n",
    "                mse_split = (len(y_left) / len(y)) * self.mse(y_left) + (len(y_right) / len(y)) * self.mse(y_right)\n",
    "\n",
    "                if mse_split < best_mse:\n",
    "                    best_mse = mse_split\n",
    "                    best_feature = feature\n",
    "                    best_split = threshold\n",
    "\n",
    "        if best_feature is None or best_mse >= current_mse:\n",
    "            return np.mean(y)\n",
    "\n",
    "        left_mask = X[best_feature] <= best_split\n",
    "        right_mask = X[best_feature] > best_split\n",
    "\n",
    "        left_subtree = self._build_tree(X[left_mask], y[left_mask], depth + 1)\n",
    "        right_subtree = self._build_tree(X[right_mask], y[right_mask], depth + 1)\n",
    "\n",
    "        return {\n",
    "            \"feature\": best_feature,\n",
    "            \"threshold\": best_split,\n",
    "            \"left\": left_subtree,\n",
    "            \"right\": right_subtree,\n",
    "        }\n",
    "\n",
    "    def predict_sample(self, x, tree):\n",
    "        if not isinstance(tree, dict):\n",
    "            return tree\n",
    "\n",
    "        feature, threshold = tree[\"feature\"], tree[\"threshold\"]\n",
    "        if x[feature] <= threshold:\n",
    "            return self.predict_sample(x, tree[\"left\"])\n",
    "        else:\n",
    "            return self.predict_sample(x, tree[\"right\"])\n",
    "\n",
    "    def predict(self, X):\n",
    "        return X.apply(lambda x: self.predict_sample(x, self.tree), axis=1)\n",
    "\n",
    "\n",
    "X_train_reg = pd.DataFrame(X_train_reg, columns=feature_names)\n",
    "X_test_reg = pd.DataFrame(X_test_reg, columns=feature_names)\n",
    "\n",
    "# Повторное обучение дерева регрессии\n",
    "reg_tree = RegressionTree(min_samples_split=5, max_depth=10)\n",
    "reg_tree.fit(X_train_reg, y_train_reg)\n",
    "\n",
    "# Предсказание и вычисление MSE\n",
    "y_pred_reg = reg_tree.predict(X_test_reg)\n",
    "regression_mse = mean_squared_error(y_test_reg, y_pred_reg)\n",
    "\n",
    "regression_mse"
   ]
  },
  {
   "cell_type": "code",
   "execution_count": null,
   "metadata": {},
   "outputs": [],
   "source": []
  }
 ],
 "metadata": {
  "celltoolbar": "Raw Cell Format",
  "colab": {
   "provenance": []
  },
  "kernelspec": {
   "display_name": "Python 3 (ipykernel)",
   "language": "python",
   "name": "python3"
  },
  "language_info": {
   "codemirror_mode": {
    "name": "ipython",
    "version": 3
   },
   "file_extension": ".py",
   "mimetype": "text/x-python",
   "name": "python",
   "nbconvert_exporter": "python",
   "pygments_lexer": "ipython3",
   "version": "3.11.7"
  }
 },
 "nbformat": 4,
 "nbformat_minor": 1
}
